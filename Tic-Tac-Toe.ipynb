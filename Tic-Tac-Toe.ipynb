{
 "cells": [
  {
   "cell_type": "code",
   "execution_count": 1,
   "metadata": {},
   "outputs": [],
   "source": [
    "## Tic-Tac-Toe Game"
   ]
  },
  {
   "cell_type": "code",
   "execution_count": 3,
   "metadata": {},
   "outputs": [],
   "source": [
    "from IPython.display  import clear_output\n",
    "\n",
    "def display_board(board):\n",
    "    clear_output()\n",
    "    print('  |   |')\n",
    "    print(''+ board[7]+' | '+board[8] + ' | ' + board[9])\n",
    "    print('  |   |')\n",
    "    print('----------')\n",
    "    print('  |   |')\n",
    "    print(''+ board[4]+' | '+board[5] + ' | ' + board[6])\n",
    "    print('  |   |')\n",
    "    print('----------')\n",
    "    print('  |   |')\n",
    "    print(''+ board[1]+' | '+board[2] + ' | ' + board[3])\n",
    "    print('  |   |')"
   ]
  },
  {
   "cell_type": "code",
   "execution_count": 4,
   "metadata": {},
   "outputs": [
    {
     "name": "stdout",
     "output_type": "stream",
     "text": [
      "  |   |\n",
      "X | O | X\n",
      "  |   |\n",
      "----------\n",
      "  |   |\n",
      "O | X | O\n",
      "  |   |\n",
      "----------\n",
      "  |   |\n",
      "X | O | X\n",
      "  |   |\n"
     ]
    }
   ],
   "source": [
    "test_board=['#','X','O','X','O','X','O','X','O','X']\n",
    "display_board(test_board)"
   ]
  },
  {
   "cell_type": "code",
   "execution_count": 5,
   "metadata": {},
   "outputs": [],
   "source": [
    "def player_input():\n",
    "    \n",
    "    marker=''\n",
    "    \n",
    "    while not (marker =='X' or marker== 'O'):\n",
    "        marker =input('Player 1 : Choose X or O: ').upper()\n",
    "    \n",
    "    if marker=='X':\n",
    "        return ('X','0')\n",
    "    else:\n",
    "        return ('O','X')"
   ]
  },
  {
   "cell_type": "code",
   "execution_count": 6,
   "metadata": {},
   "outputs": [
    {
     "name": "stdout",
     "output_type": "stream",
     "text": [
      "Player 1 : Choose X or O: \n",
      "Player 1 : Choose X or O: X\n"
     ]
    },
    {
     "data": {
      "text/plain": [
       "('X', '0')"
      ]
     },
     "execution_count": 6,
     "metadata": {},
     "output_type": "execute_result"
    }
   ],
   "source": [
    "player_input()"
   ]
  },
  {
   "cell_type": "code",
   "execution_count": 7,
   "metadata": {},
   "outputs": [],
   "source": [
    "def place_marker(board,marker,position):\n",
    "    board[position] = marker"
   ]
  },
  {
   "cell_type": "code",
   "execution_count": 8,
   "metadata": {},
   "outputs": [
    {
     "data": {
      "text/plain": [
       "['#', 'X', 'O', 'X', 'O', 'X', 'O', 'X', 'O', 'X']"
      ]
     },
     "execution_count": 8,
     "metadata": {},
     "output_type": "execute_result"
    }
   ],
   "source": [
    "test_board"
   ]
  },
  {
   "cell_type": "code",
   "execution_count": 9,
   "metadata": {},
   "outputs": [],
   "source": [
    "def win_check(board,mark):\n",
    "    \n",
    "    #win tic tac toe ?\n",
    "    #All rows and check to see if thry all share the same marker ?\n",
    "    return ((board[1]==mark and board[2]==mark and board[3]==mark) or\n",
    "    (board[4]==mark and board[5]==mark and board[6]==mark) or\n",
    "    (board[7]==mark and board[8]==mark and board[9]==mark) or\n",
    "    (board[7]==mark and board[4]==mark and board[1]==mark) or\n",
    "    (board[8]==mark and board[5]==mark and board[2]==mark) or\n",
    "    (board[9]==mark and board[6]==mark and board[3]==mark) or\n",
    "    (board[7]==mark and board[5]==mark and board[3]==mark) or\n",
    "    (board[9]==mark and board[5]==mark and board[1]==mark))\n",
    "    #all colums , check to see if marker matches"
   ]
  },
  {
   "cell_type": "code",
   "execution_count": 10,
   "metadata": {},
   "outputs": [
    {
     "data": {
      "text/plain": [
       "True"
      ]
     },
     "execution_count": 10,
     "metadata": {},
     "output_type": "execute_result"
    }
   ],
   "source": [
    "win_check(test_board,\"X\")"
   ]
  },
  {
   "cell_type": "code",
   "execution_count": 11,
   "metadata": {},
   "outputs": [
    {
     "name": "stdout",
     "output_type": "stream",
     "text": [
      "  |   |\n",
      "X | O | X\n",
      "  |   |\n",
      "----------\n",
      "  |   |\n",
      "O | X | O\n",
      "  |   |\n",
      "----------\n",
      "  |   |\n",
      "a | O | X\n",
      "  |   |\n"
     ]
    }
   ],
   "source": [
    "place_marker(test_board,'a',1)\n",
    "display_board(test_board)"
   ]
  },
  {
   "cell_type": "code",
   "execution_count": 12,
   "metadata": {},
   "outputs": [],
   "source": [
    "import random \n",
    "def choose_first():\n",
    "    flip=random.randint(0,1)\n",
    "    \n",
    "    if flip==0:\n",
    "        return 'Player 1'\n",
    "    else:\n",
    "        return 'Player 2'"
   ]
  },
  {
   "cell_type": "code",
   "execution_count": 13,
   "metadata": {},
   "outputs": [],
   "source": [
    "def space_check(board,position):\n",
    "    \n",
    "    return board[position]== ' '"
   ]
  },
  {
   "cell_type": "code",
   "execution_count": 14,
   "metadata": {},
   "outputs": [],
   "source": [
    "def full_board_check(board):\n",
    "    \n",
    "    for i in range(1,10):\n",
    "        if space_check(board,i):\n",
    "            return False\n",
    "    #Board si full is we return true\n",
    "    return True"
   ]
  },
  {
   "cell_type": "code",
   "execution_count": 15,
   "metadata": {},
   "outputs": [],
   "source": [
    "def player_choice(board):\n",
    "    \n",
    "    position=0\n",
    "    while position not in [1,2,3,4,5,6,7,8,9] or not space_check(board,position):\n",
    "        position=int(input('Choose a position: (1-9)'))\n",
    "    return position"
   ]
  },
  {
   "cell_type": "code",
   "execution_count": 16,
   "metadata": {},
   "outputs": [],
   "source": [
    "def replay():\n",
    "    \n",
    "    choice=input(\"Play again ?? Enter Yes or No \")\n",
    "    \n",
    "    return choice=='Yes'"
   ]
  },
  {
   "cell_type": "code",
   "execution_count": 17,
   "metadata": {},
   "outputs": [
    {
     "name": "stdout",
     "output_type": "stream",
     "text": [
      "  |   |\n",
      "X |   |  \n",
      "  |   |\n",
      "----------\n",
      "  |   |\n",
      "0 | X | 0\n",
      "  |   |\n",
      "----------\n",
      "  |   |\n",
      "  | 0 | X\n",
      "  |   |\n",
      "Player 1 has won !\n",
      "Play again ?? Enter Yes or No 8\n"
     ]
    }
   ],
   "source": [
    "# WHILE LOOP  To KEEP RUNNING THE Game\n",
    "print(\"Welcome to Tic-Tac-Toe\")\n",
    "\n",
    "while True:\n",
    "    \n",
    "    # Play the Game\n",
    "    \n",
    "    ## Set Everything Up (board,whos First,choose markers X,O)\n",
    "    the_board=[' ']*10\n",
    "    player1_marker,player2_marker= player_input()\n",
    "    \n",
    "    turn = choose_first()\n",
    "    print(turn + ' will go first ')\n",
    "    \n",
    "    play_game = input(' Ready to play ? Yes or No ?')\n",
    "    \n",
    "    if play_game=='Yes':\n",
    "        game_on=True\n",
    "    else:\n",
    "        game_on= False\n",
    "    \n",
    "    ## GAME PLAY\n",
    "    \n",
    "    while game_on:\n",
    "        \n",
    "        if turn=='Player 1':\n",
    "            display_board(the_board)\n",
    "            #choose a position\n",
    "            position = player_choice(the_board)\n",
    "            #place the marker on the position\n",
    "            place_marker(the_board,player1_marker,position)\n",
    "            #check if they won\n",
    "            if win_check(the_board,player1_marker):\n",
    "                display_board(the_board)\n",
    "                print(\"Player 1 has won !\")\n",
    "                game_on=False\n",
    "            else:\n",
    "                if full_board_check(the_board):\n",
    "                    display_board(the_board)\n",
    "                    print(\"Tie Game !!\")\n",
    "                    break\n",
    "                else:\n",
    "                    turn ='Player 2'\n",
    "                \n",
    "    \n",
    "        else:\n",
    "            display_board(the_board)\n",
    "            #choose a position\n",
    "            position = player_choice(the_board)\n",
    "            #place the marker on the position\n",
    "\n",
    "            place_marker(the_board,player2_marker,position)\n",
    "            #check if they won\n",
    "            if win_check(the_board,player2_marker):\n",
    "                display_board(the_board)\n",
    "                print(\"Player 2 has won !\")\n",
    "                game_on=False\n",
    "            else:\n",
    "                if full_board_check(the_board):\n",
    "                    display_board(the_board)\n",
    "                    print(\"Tie Game !!\")\n",
    "                    break\n",
    "                else:\n",
    "                    turn ='Player 1'\n",
    "        \n",
    "    ### PLAYER TWO TURN \n",
    "    \n",
    "    if not replay():\n",
    "        break"
   ]
  },
  {
   "cell_type": "code",
   "execution_count": null,
   "metadata": {},
   "outputs": [],
   "source": []
  },
  {
   "cell_type": "code",
   "execution_count": null,
   "metadata": {},
   "outputs": [],
   "source": []
  }
 ],
 "metadata": {
  "kernelspec": {
   "display_name": "Python 3",
   "language": "python",
   "name": "python3"
  },
  "language_info": {
   "codemirror_mode": {
    "name": "ipython",
    "version": 3
   },
   "file_extension": ".py",
   "mimetype": "text/x-python",
   "name": "python",
   "nbconvert_exporter": "python",
   "pygments_lexer": "ipython3",
   "version": "3.8.5"
  }
 },
 "nbformat": 4,
 "nbformat_minor": 4
}
